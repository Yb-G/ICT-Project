{
 "cells": [
  {
   "cell_type": "code",
   "execution_count": 9,
   "metadata": {},
   "outputs": [
    {
     "name": "stdout",
     "output_type": "stream",
     "text": [
      "2.4\n"
     ]
    }
   ],
   "source": [
    "H = int(input(\"Please enter your Height in ft\"))\n",
    "W = int(input(\"Please enter your Weight in kg\"))\n",
    "\n",
    "BMI = W / H ** 2\n",
    "print (BMI)"
   ]
  }
 ],
 "metadata": {
  "kernelspec": {
   "display_name": "Python 3.10.7 64-bit (windows store)",
   "language": "python",
   "name": "python3"
  },
  "language_info": {
   "codemirror_mode": {
    "name": "ipython",
    "version": 3
   },
   "file_extension": ".py",
   "mimetype": "text/x-python",
   "name": "python",
   "nbconvert_exporter": "python",
   "pygments_lexer": "ipython3",
   "version": "3.10.7"
  },
  "orig_nbformat": 4,
  "vscode": {
   "interpreter": {
    "hash": "addd732910d138da6e81d3b5ba5cf1376ede15256bc4cec81e782871a3d4052f"
   }
  }
 },
 "nbformat": 4,
 "nbformat_minor": 2
}
