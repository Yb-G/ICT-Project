{
 "cells": [
  {
   "cell_type": "code",
   "execution_count": 13,
   "metadata": {},
   "outputs": [
    {
     "ename": "SyntaxError",
     "evalue": "invalid syntax. Maybe you meant '==' or ':=' instead of '='? (4254267879.py, line 6)",
     "output_type": "error",
     "traceback": [
      "\u001b[1;36m  Input \u001b[1;32mIn [13]\u001b[1;36m\u001b[0m\n\u001b[1;33m    if a=0:\u001b[0m\n\u001b[1;37m       ^\u001b[0m\n\u001b[1;31mSyntaxError\u001b[0m\u001b[1;31m:\u001b[0m invalid syntax. Maybe you meant '==' or ':=' instead of '='?\n"
     ]
    }
   ],
   "source": [
    "a = int(input(\"Please enter your a number for a\"))\n",
    "b = int(input(\"Please enter your a number for b\"))\n",
    "x = int(input(\"Please enter your a number for x\"))\n",
    "c = int(input(\"Please enter your a number for c\"))\n",
    "\n",
    "if a=0:\n",
    "    print (\"a cannot be 0!\")\n",
    "    print(\"Exitting code...\")\n",
    "else:\n",
    "    print(\"The number you chose for a was\", a)\n",
    "    print(\"The number you chose for b was\", b)\n",
    "    print(\"The number you chose for x was\", x)\n",
    "    print(\"The number you chose for c was\", c)\n",
    "    Q = a*x^2 + b*x + c\n",
    "    print (Q)"
   ]
  }
 ],
 "metadata": {
  "kernelspec": {
   "display_name": "Python 3.10.7 64-bit (windows store)",
   "language": "python",
   "name": "python3"
  },
  "language_info": {
   "codemirror_mode": {
    "name": "ipython",
    "version": 3
   },
   "file_extension": ".py",
   "mimetype": "text/x-python",
   "name": "python",
   "nbconvert_exporter": "python",
   "pygments_lexer": "ipython3",
   "version": "3.10.7"
  },
  "orig_nbformat": 4,
  "vscode": {
   "interpreter": {
    "hash": "addd732910d138da6e81d3b5ba5cf1376ede15256bc4cec81e782871a3d4052f"
   }
  }
 },
 "nbformat": 4,
 "nbformat_minor": 2
}
